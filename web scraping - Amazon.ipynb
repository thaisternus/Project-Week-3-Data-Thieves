{
 "cells": [
  {
   "cell_type": "code",
   "execution_count": 1,
   "id": "12ab5223",
   "metadata": {},
   "outputs": [],
   "source": [
    "import requests\n",
    "from glob import glob\n",
    "from bs4 import BeautifulSoup\n",
    "import pandas as pd\n",
    "from datetime import datetime\n",
    "from time import sleep"
   ]
  },
  {
   "cell_type": "code",
   "execution_count": 78,
   "id": "d9ccd783",
   "metadata": {},
   "outputs": [],
   "source": [
    "headers= ({'User-Agent':\n",
    "            'Mozilla/5.0 (Windows NT 6.1) AppleWebKit/537.36 (KHTML, like Gecko) Chrome/41.0.2228.0 Safari/537.36',\n",
    "            'Accept-Language': 'en-US, en;q=0.5'})\n",
    "\n",
    "url = 'https://www.amazon.com/dp/1501171348?tag=NYTBSREV-20'\n",
    "\n"
   ]
  },
  {
   "cell_type": "code",
   "execution_count": 79,
   "id": "8570741f",
   "metadata": {},
   "outputs": [
    {
     "data": {
      "text/plain": [
       "200"
      ]
     },
     "execution_count": 79,
     "metadata": {},
     "output_type": "execute_result"
    }
   ],
   "source": [
    "amazon = requests.get(url, headers=headers)\n",
    "amazon.status_code"
   ]
  },
  {
   "cell_type": "code",
   "execution_count": 80,
   "id": "d582f835",
   "metadata": {
    "scrolled": false
   },
   "outputs": [],
   "source": [
    "#class=\"size-medium a-color-base a-text-beside-button a-text-bold\"\n",
    "#data-hook=\"acr-average-stars-rating-text\"\n",
    "\n",
    "soup = BeautifulSoup(amazon.content, 'lxml')\n",
    "#stars = soup.select('.data-hook')[0].get_text()\n",
    "#print(stars)"
   ]
  },
  {
   "cell_type": "code",
   "execution_count": null,
   "id": "80b305bb",
   "metadata": {},
   "outputs": [],
   "source": [
    "#products = soup.find_all('li', attrs = {'class' : '_a44404 _d85b45'})\n",
    "#products\n",
    "\n",
    "#stars2 = soup.find_all('span', attrs ={'class' : 'size-medium a-color-base a-text-beside-button a-text-bold'})\n",
    "#stars2"
   ]
  },
  {
   "cell_type": "code",
   "execution_count": 81,
   "id": "8622429e",
   "metadata": {},
   "outputs": [
    {
     "name": "stdout",
     "output_type": "stream",
     "text": [
      "The Last Thing He Told Me: A Novel\n"
     ]
    }
   ],
   "source": [
    "title = soup.find(id='productTitle').get_text().strip()\n",
    "print(title)"
   ]
  },
  {
   "cell_type": "code",
   "execution_count": 84,
   "id": "30f03ff1",
   "metadata": {},
   "outputs": [],
   "source": [
    "#priceblock_ourprice\n",
    "#replace('.', '').replace('$', '').replace(',', '.')\n",
    "try:\n",
    "    price =(soup.find('a', attrs = {'id':'a-autoid-2-announce'}).get_text())\n",
    "except:\n",
    "    price = 'nothing'"
   ]
  },
  {
   "cell_type": "code",
   "execution_count": 85,
   "id": "91d3d160",
   "metadata": {
    "scrolled": false
   },
   "outputs": [
    {
     "name": "stdout",
     "output_type": "stream",
     "text": [
      "nothing\n"
     ]
    }
   ],
   "source": [
    "print(price)"
   ]
  },
  {
   "cell_type": "code",
   "execution_count": 8,
   "id": "208f41fc",
   "metadata": {
    "scrolled": true
   },
   "outputs": [
    {
     "name": "stdout",
     "output_type": "stream",
     "text": [
      "4.4\n"
     ]
    }
   ],
   "source": [
    "review_score = float(soup.select('.a-star-4-5')[0].get_text().split(' ')[0].replace(\",\", \".\"))\n",
    "print(review_score)"
   ]
  },
  {
   "cell_type": "code",
   "execution_count": 9,
   "id": "7049529c",
   "metadata": {
    "scrolled": true
   },
   "outputs": [
    {
     "name": "stdout",
     "output_type": "stream",
     "text": [
      "7506\n"
     ]
    }
   ],
   "source": [
    "review_count = int(soup.select('#acrCustomerReviewText')[0].get_text().split(' ')[0].replace(\",\", \"\"))\n",
    "print(review_count)"
   ]
  },
  {
   "cell_type": "code",
   "execution_count": null,
   "id": "b3f88574",
   "metadata": {},
   "outputs": [],
   "source": [
    "#soup"
   ]
  },
  {
   "cell_type": "code",
   "execution_count": 24,
   "id": "3f95c925",
   "metadata": {},
   "outputs": [],
   "source": [
    "def search_book_list(row):\n",
    "    book_tracker = pd.read_csv('List of URL.csv', sep=',')\n",
    "    book_tracker_URLS = book_tracker.URL\n",
    "    tracker_log = pd.DataFrame()\n",
    "\n",
    "    for x, URL in enumerate(book_tracker_URLS):\n",
    "            page = requests.get(URL, headers=headers)\n",
    "            soup = BeautifulSoup(page.content, features=\"lxml\")\n",
    "            \n",
    "            #product title\n",
    "            title = soup.find(id='productTitle').get_text().strip()\n",
    "            \n",
    "            # to prevent script from crashing when there isn't a price for the product\n",
    "            try:\n",
    "                price =(soup.find('span', attrs = {'class':'a-size-base a-color-price a-color-price'}).get_text())\n",
    "            except:\n",
    "                price = 'nothing'\n",
    "\n",
    "            try:\n",
    "                review_score = float(soup.select('.a-star-4-5')[0].get_text().split(' ')[0].replace(\",\", \".\"))\n",
    "                review_count = int(soup.select('#acrCustomerReviewText')[0].get_text().split(' ')[0].replace(\",\", \"\"))\n",
    "            except:\n",
    "                review_score = 'Nothing'\n",
    "                review_count = 'Nothing'\n",
    "                #try:\n",
    "                #    review_score = float(soup.select('i[class*=\"a-icon a-icon-star a-star-\"]')[1].get_text().split(' ')[0].replace(\",\", \".\"))\n",
    "                #    review_count = int(soup.select('#acrCustomerReviewText')[0].get_text().split(' ')[0].replace(\".\", \"\"))\n",
    "                #except:\n",
    "                #    review_score = ''\n",
    "                #    review_count = ''"
   ]
  },
  {
   "cell_type": "code",
   "execution_count": null,
   "id": "e54fa541",
   "metadata": {},
   "outputs": [],
   "source": [
    "headers= ({'User-Agent':\n",
    "            'Mozilla/5.0 (Windows NT 6.1) AppleWebKit/537.36 (KHTML, like Gecko) Chrome/41.0.2228.0 Safari/537.36',\n",
    "            'Accept-Language': 'en-US, en;q=0.5'})\n",
    "\n",
    "url = pd.read_csv('List of URL.csv', sep=',')\n",
    "\n",
    "book_list = []"
   ]
  },
  {
   "cell_type": "code",
   "execution_count": 74,
   "id": "1e476cdf",
   "metadata": {},
   "outputs": [],
   "source": [
    "dataframe = pd.read_csv('List of URL.csv', sep=',')\n",
    "\n",
    "def book_function(url_data):\n",
    "    \n",
    "\n",
    "    data=[]\n",
    "\n",
    "    for url in url_data['URL'][:1]: # slicing only the top 4 \n",
    "        print(i)\n",
    "        time.sleep(3)\n",
    "        amazon = requests.get(url, headers=headers)\n",
    "        content = amazon.content\n",
    "        soup = BeautifulSoup(content)\n",
    "\n",
    "        title = soup.find(id='productTitle').get_text().strip()\n",
    "\n",
    "        # to prevent script from crashing when there isn't a price for the product\n",
    "        try:\n",
    "            price =(soup.find('span', attrs = {'class':'a-size-base a-color-price a-color-price'}).get_text()).strip().replace('$', '')\n",
    "        except:\n",
    "            price = 'Nothing'\n",
    "\n",
    "        try:\n",
    "            review_score = float(soup.select('.a-star-4-5')[0].get_text().split(' ')[0].replace(\",\", \".\"))\n",
    "            #review_count = int(soup.select('#acrCustomerReviewText')[0].get_text().split(' ')[0].replace(\".\", \"\"))\n",
    "    \n",
    "        except:\n",
    "            review_score = 'Nothing'\n",
    "            \n",
    "        try: \n",
    "            review_count = int(soup.select('#acrCustomerReviewText')[0].get_text().split(' ')[0].replace(\",\", \"\"))\n",
    "        except:\n",
    "    \n",
    "            review_count =  'Nothing'\n",
    "            #try:\n",
    "            #    review_score = float(soup.select('i[class*=\"a-icon a-icon-star a-star-\"]')[1].get_text().split(' ')[0].replace(\",\", \".\"))\n",
    "            #    review_count = int(soup.select('#acrCustomerReviewText')[0].get_text().split(' ')[0].replace(\".\", \"\"))\n",
    "            #except:\n",
    "            #    review_score = ''\n",
    "            #    review_count = ''\n",
    "\n",
    "        data.append({'Title': title, 'Price': price, 'url':url, 'Review_score':review_score, 'Review_count': review_count })\n",
    "    \n",
    "    return pd.DataFrame(data)"
   ]
  },
  {
   "cell_type": "code",
   "execution_count": 75,
   "id": "bc9a1ce9",
   "metadata": {
    "scrolled": false
   },
   "outputs": [
    {
     "name": "stdout",
     "output_type": "stream",
     "text": [
      "https://www.amazon.com/Where-Crawdads-Sing-Delia-Owens/dp/0735219095?tag=NYTBSREV-20\n"
     ]
    },
    {
     "data": {
      "text/html": [
       "<div>\n",
       "<style scoped>\n",
       "    .dataframe tbody tr th:only-of-type {\n",
       "        vertical-align: middle;\n",
       "    }\n",
       "\n",
       "    .dataframe tbody tr th {\n",
       "        vertical-align: top;\n",
       "    }\n",
       "\n",
       "    .dataframe thead th {\n",
       "        text-align: right;\n",
       "    }\n",
       "</style>\n",
       "<table border=\"1\" class=\"dataframe\">\n",
       "  <thead>\n",
       "    <tr style=\"text-align: right;\">\n",
       "      <th></th>\n",
       "      <th>Title</th>\n",
       "      <th>Price</th>\n",
       "      <th>url</th>\n",
       "      <th>Review_score</th>\n",
       "      <th>Review_count</th>\n",
       "    </tr>\n",
       "  </thead>\n",
       "  <tbody>\n",
       "    <tr>\n",
       "      <th>0</th>\n",
       "      <td>The Last Thing He Told Me: A Novel</td>\n",
       "      <td>16.88</td>\n",
       "      <td>https://www.amazon.com/dp/1501171348?tag=NYTBS...</td>\n",
       "      <td>4.4</td>\n",
       "      <td>7508</td>\n",
       "    </tr>\n",
       "  </tbody>\n",
       "</table>\n",
       "</div>"
      ],
      "text/plain": [
       "                                Title  Price  \\\n",
       "0  The Last Thing He Told Me: A Novel  16.88   \n",
       "\n",
       "                                                 url  Review_score  \\\n",
       "0  https://www.amazon.com/dp/1501171348?tag=NYTBS...           4.4   \n",
       "\n",
       "   Review_count  \n",
       "0          7508  "
      ]
     },
     "execution_count": 75,
     "metadata": {},
     "output_type": "execute_result"
    }
   ],
   "source": [
    "book_function(dataframe)"
   ]
  },
  {
   "cell_type": "code",
   "execution_count": 41,
   "id": "b5fcdd56",
   "metadata": {},
   "outputs": [],
   "source": [
    "import time \n",
    "\n",
    "time.sleep(3)"
   ]
  },
  {
   "cell_type": "code",
   "execution_count": 61,
   "id": "33f657a5",
   "metadata": {},
   "outputs": [
    {
     "name": "stdout",
     "output_type": "stream",
     "text": [
      "https://www.amazon.com/Where-Crawdads-Sing-Delia-Owens/dp/0735219095?tag=NYTBSREV-20\n",
      "https://www.amazon.com/Where-Crawdads-Sing-Delia-Owens/dp/0735219095?tag=NYTBSREV-20\n",
      "https://www.amazon.com/Where-Crawdads-Sing-Delia-Owens/dp/0735219095?tag=NYTBSREV-20\n",
      "https://www.amazon.com/Where-Crawdads-Sing-Delia-Owens/dp/0735219095?tag=NYTBSREV-20\n"
     ]
    }
   ],
   "source": [
    "booklist = book_function(dataframe)"
   ]
  },
  {
   "cell_type": "code",
   "execution_count": 62,
   "id": "657afcfd",
   "metadata": {
    "scrolled": true
   },
   "outputs": [],
   "source": [
    "booklist.to_csv('List of URL_scraping.csv', index=True)"
   ]
  }
 ],
 "metadata": {
  "kernelspec": {
   "display_name": "Python 3",
   "language": "python",
   "name": "python3"
  },
  "language_info": {
   "codemirror_mode": {
    "name": "ipython",
    "version": 3
   },
   "file_extension": ".py",
   "mimetype": "text/x-python",
   "name": "python",
   "nbconvert_exporter": "python",
   "pygments_lexer": "ipython3",
   "version": "3.8.8"
  }
 },
 "nbformat": 4,
 "nbformat_minor": 5
}
