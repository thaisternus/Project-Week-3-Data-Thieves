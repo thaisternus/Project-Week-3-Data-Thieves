{
 "cells": [
  {
   "cell_type": "code",
   "execution_count": null,
   "id": "8b2ba6b3",
   "metadata": {},
   "outputs": [],
   "source": [
    "import requests\n",
    "import pandas as pd\n",
    "import json\n",
    "import datetime"
   ]
  },
  {
   "cell_type": "code",
   "execution_count": null,
   "id": "e7f7dea6",
   "metadata": {},
   "outputs": [],
   "source": [
    "#main url: https://api.nytimes.com/svc/books/v3/lists\n",
    "#format: .json\n",
    "#NYTIMES API KEY: api-key=A VOSSA KEY PARA ACEDER À API AQUI\n",
    "\n",
    "#There are four main requests types:\n",
    "\n",
    "#1 Get Best Sellers List Details\n",
    "#2 Get Overview of Best Sellers Lists\n",
    "#3 Get Best Sellers List Names\n",
    "#4 Get Book's Best Sellers List History"
   ]
  },
  {
   "cell_type": "code",
   "execution_count": null,
   "id": "431f8cc2",
   "metadata": {},
   "outputs": [],
   "source": [
    "#resumindo o que estou a fazer aqui: \n",
    "#quero ter uma forma de aceder aos bestsellers do NYTimes com a atualização mais recente\n",
    "#fazer correlação com a lista dos mais vendidos neste momento na Amazon Books e devolve reviews, estrelas, preço"
   ]
  },
  {
   "cell_type": "code",
   "execution_count": null,
   "id": "6dde6102",
   "metadata": {},
   "outputs": [],
   "source": [
    "#Trazer o Top 5 dos best sellers nas várias categorias na atualização mais recente à data destas pesquisas (published_date=2021-06-06)\n",
    "\n",
    "#url = 'https://api.nytimes.com/svc/books/v3/lists/overview.json?published_date=2021-06-06&api-key=A VOSSA KEY PARA ACEDER À API AQUI'\n",
    "\n",
    "#Trazer o Top 5 dos best sellers nas várias categorias na atualização mais recente para todas as categorias\n",
    "url = 'https://api.nytimes.com/svc/books/v3/lists/overview.json?api-key=A VOSSA KEY PARA ACEDER À API AQUI'\n",
    "\n",
    "response = requests.get(url)\n",
    "\n",
    "#test the connection\n",
    "response.status_code"
   ]
  },
  {
   "cell_type": "code",
   "execution_count": null,
   "id": "ca3568c2",
   "metadata": {},
   "outputs": [],
   "source": [
    "#put it into a json file format\n",
    "response.json()"
   ]
  },
  {
   "cell_type": "code",
   "execution_count": null,
   "id": "9302dab8",
   "metadata": {},
   "outputs": [],
   "source": [
    "#create a dataframe\n",
    "df_overview = pd.DataFrame(response.json())\n",
    "df_overview"
   ]
  },
  {
   "cell_type": "code",
   "execution_count": null,
   "id": "5d15f27a",
   "metadata": {},
   "outputs": [],
   "source": [
    "#normalize the dataframe\n",
    "df_overview_normalized = pd.json_normalize(response.json())\n",
    "df_overview_normalized"
   ]
  },
  {
   "cell_type": "code",
   "execution_count": null,
   "id": "1e9cc6b5",
   "metadata": {},
   "outputs": [],
   "source": [
    "#let's see what's inside the list of dictionaries\n",
    "df_overview_normalized['results.lists'][0]"
   ]
  },
  {
   "cell_type": "code",
   "execution_count": null,
   "id": "7055a1e5",
   "metadata": {},
   "outputs": [],
   "source": [
    "#it shows all the lists. let's create a dataframe\n",
    "nowWhat = pd.DataFrame(df_overview_normalized['results.lists'][0])\n",
    "nowWhat"
   ]
  },
  {
   "cell_type": "code",
   "execution_count": null,
   "id": "be66c57c",
   "metadata": {},
   "outputs": [],
   "source": [
    "### creating dataframes for each list name and add a column with the correspondent list"
   ]
  },
  {
   "cell_type": "code",
   "execution_count": null,
   "id": "58aecb71",
   "metadata": {},
   "outputs": [],
   "source": [
    "#combined_print_and_e_book_fiction\n",
    "books0 = pd.DataFrame(nowWhat['books'][0])\n",
    "books0.insert(0, 'list_name', 'Combined Print & E-Book Fiction')\n",
    "\n",
    "#combined_print_and_e_book_nonfiction\n",
    "books1 = pd.DataFrame(nowWhat['books'][1])\n",
    "books1.insert(0, 'list_name', 'Combined Print & E-Book Nonfiction')\n",
    "\n",
    "#hardcover_fiction \n",
    "books2 = pd.DataFrame(nowWhat['books'][2])\n",
    "books2.insert(0, 'list_name', 'Hardcover Fiction')\n",
    "\n",
    "#hardcover_nonfiction \n",
    "books3 = pd.DataFrame(nowWhat['books'][3])\n",
    "books3.insert(0, 'list_name', 'Hardcover Nonfiction')\n",
    "\n",
    "#trade_fiction_paperback \n",
    "books4 = pd.DataFrame(nowWhat['books'][4])\n",
    "books4.insert(0, 'list_name', 'Trade Fiction Paperback')\n",
    "\n",
    "#paperback_nonfiction \n",
    "books5 = pd.DataFrame(nowWhat['books'][5])\n",
    "books5.insert(0, 'list_name', 'Paperback Nonfiction')\n",
    "\n",
    "#advice_how_to_and_miscellaneous \n",
    "books6 = pd.DataFrame(nowWhat['books'][6])\n",
    "books6.insert(0, 'list_name', 'Advice, How-To & Miscellaneous')\n",
    "\n",
    "#childrens_middle_grade_hardcover \n",
    "books7 = pd.DataFrame(nowWhat['books'][7])\n",
    "books7.insert(0, 'list_name', 'Children’s Middle Grade Hardcover')\n",
    "\n",
    "#picture_books \n",
    "books8 = pd.DataFrame(nowWhat['books'][8])\n",
    "books8.insert(0, 'list_name', 'Children’s Picture Books')\n",
    "\n",
    "#series_books \n",
    "books9 = pd.DataFrame(nowWhat['books'][9])\n",
    "books9.insert(0, 'list_name', 'Children’s Series')\n",
    "\n",
    "#young_adult_hardcover \n",
    "books10 = pd.DataFrame(nowWhat['books'][10])\n",
    "books10.insert(0, 'list_name', 'Young Adult Hardcover')\n",
    "\n",
    "### the following dataframes are not available now. when i did the first connections with API, it showed the lists under this note\n",
    "\n",
    "#audio_fiction \n",
    "#books11 = pd.DataFrame(nowWhat['books'][11])\n",
    "#books11.insert(0, 'list_name', 'Audio Fiction')\n",
    "\n",
    "#audio_nonfiction \n",
    "#books12 = pd.DataFrame(nowWhat['books'][12])\n",
    "#books12.insert(0, 'list_name', 'Audio Nonfiction')\n",
    "\n",
    "#business_books \n",
    "#books13 = pd.DataFrame(nowWhat['books'][13])\n",
    "#books13.insert(0, 'list_name', 'Business')\n",
    "\n",
    "#graphic_books_and_manga \n",
    "#books14 = pd.DataFrame(nowWhat['books'][14])\n",
    "#books14.insert(0, 'list_name', 'Graphic Books and Manga')\n",
    "\n",
    "#mass_market_monthly \n",
    "#books15 = pd.DataFrame(nowWhat['books'][15])\n",
    "#books15.insert(0, 'list_name', 'Mass Market')\n",
    "\n",
    "#middle_grade_paperback_monthly \n",
    "#books16 = pd.DataFrame(nowWhat['books'][16])\n",
    "#books16.insert(0, 'list_name', 'Middle Grade Paperback')\n",
    "\n",
    "#young_adult_paperback_monthly \n",
    "#books17 = pd.DataFrame(nowWhat['books'][17])\n",
    "#books17.insert(0, 'list_name', 'Young Adult Paperback')"
   ]
  },
  {
   "cell_type": "code",
   "execution_count": null,
   "id": "6f1e58fb",
   "metadata": {},
   "outputs": [],
   "source": [
    "#concatenate the previous dataframes into a single one\n",
    "allTogether = pd.concat([books0, books1, books2, books3, books4, books5, books6, books7, books8, books9, books10], axis = 0)"
   ]
  },
  {
   "cell_type": "code",
   "execution_count": null,
   "id": "8a2053c8",
   "metadata": {},
   "outputs": [],
   "source": [
    "pd.DataFrame(allTogether)"
   ]
  },
  {
   "cell_type": "code",
   "execution_count": null,
   "id": "70a13f39",
   "metadata": {},
   "outputs": [],
   "source": [
    "## Get all the column names \n",
    "for col_name in allTogether.columns: \n",
    "    print(col_name)"
   ]
  },
  {
   "cell_type": "code",
   "execution_count": null,
   "id": "bbb637ed",
   "metadata": {},
   "outputs": [],
   "source": [
    "#remove useless columns\n",
    "dropping_allTogether = allTogether.drop(['age_group', 'article_chapter_link', 'book_image', 'book_image_width', 'book_image_height', 'first_chapter_link', 'price', 'buy_links'], axis=1)\n",
    "dropping_allTogether"
   ]
  },
  {
   "cell_type": "code",
   "execution_count": null,
   "id": "41b9ba97",
   "metadata": {},
   "outputs": [],
   "source": [
    "#update list of columns\n",
    "for col_name in dropping_allTogether.columns: \n",
    "    print(col_name)\n",
    "    \n",
    "    \n",
    "#number of columns    \n",
    "len(dropping_allTogether.columns)\n",
    "#number of rows\n",
    "#len(dropping_allTogether)"
   ]
  },
  {
   "cell_type": "code",
   "execution_count": null,
   "id": "a7946580",
   "metadata": {},
   "outputs": [],
   "source": [
    "#create a csv with the dataframe above\n",
    "allTogether.to_csv('Top 5 in all NYT Best Sellers categories.csv', index=True)"
   ]
  },
  {
   "cell_type": "code",
   "execution_count": null,
   "id": "1be92f3a",
   "metadata": {},
   "outputs": [],
   "source": [
    "#pegar link de todas as linhas dentro da coluna \"amazon url\" do dataframe e fazer webscraping de cada uma\n",
    "#1selecionar coluna do pandas... todas as linhas da coluna\n",
    "#2fazer metodo transpose para ter todos os links como colunas\n",
    "#3 transformar todas linhas numa lista para fazer um for loop\n",
    "\n",
    "\n",
    "\n",
    "#tentar criar uma função para automatizar requests do top5 livros em todas as categorias e devolver dataframes conforme os resultados\n",
    "#limpar colunas: age group, article chapter link, book image, width height, first chapter link, price, buy_links"
   ]
  },
  {
   "cell_type": "code",
   "execution_count": null,
   "id": "6c639e94",
   "metadata": {},
   "outputs": [],
   "source": []
  }
 ],
 "metadata": {
  "kernelspec": {
   "display_name": "Python 3",
   "language": "python",
   "name": "python3"
  },
  "language_info": {
   "codemirror_mode": {
    "name": "ipython",
    "version": 3
   },
   "file_extension": ".py",
   "mimetype": "text/x-python",
   "name": "python",
   "nbconvert_exporter": "python",
   "pygments_lexer": "ipython3",
   "version": "3.8.8"
  }
 },
 "nbformat": 4,
 "nbformat_minor": 5
}
