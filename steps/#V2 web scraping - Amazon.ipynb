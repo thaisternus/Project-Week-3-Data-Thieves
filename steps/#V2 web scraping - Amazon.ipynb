{
 "cells": [
  {
   "cell_type": "code",
   "execution_count": 34,
   "id": "82bd65f1",
   "metadata": {},
   "outputs": [],
   "source": [
    "import requests\n",
    "from glob import glob\n",
    "from bs4 import BeautifulSoup\n",
    "import pandas as pd\n",
    "from datetime import datetime\n",
    "import time"
   ]
  },
  {
   "cell_type": "code",
   "execution_count": 35,
   "id": "b6040597",
   "metadata": {},
   "outputs": [],
   "source": [
    "headers= ({'User-Agent':\n",
    "            'Mozilla/5.0 (Windows NT 6.1) AppleWebKit/537.36 (KHTML, like Gecko) Chrome/41.0.2228.0 Safari/537.36',\n",
    "            'Accept-Language': 'en-US, en;q=0.5'})\n",
    "\n",
    "url = pd.read_csv('List of URL.csv', sep=',')\n",
    "\n",
    "book_list = []"
   ]
  },
  {
   "cell_type": "code",
   "execution_count": 39,
   "id": "18de265a",
   "metadata": {},
   "outputs": [],
   "source": [
    "dataframe = pd.read_csv('List of URL.csv', sep=',')\n",
    "\n",
    "def book_function(url_data):\n",
    "    \n",
    "\n",
    "    data=[]\n",
    "\n",
    "    for url in url_data['URL']: #[:4]: slicing only the top 4 \n",
    "        time.sleep(3)\n",
    "        amazon = requests.get(url, headers=headers)\n",
    "        content = amazon.content\n",
    "        soup = BeautifulSoup(content)\n",
    "\n",
    "        title = soup.find(id='productTitle').get_text().strip()\n",
    "\n",
    "        # to prevent script from crashing when there isn't a price for the product\n",
    "        try:\n",
    "            price =(soup.find('span', attrs = {'class':'a-size-base a-color-price a-color-price'}).get_text()).strip().replace('$', '')\n",
    "        except:\n",
    "            #price = 'Nothing'\n",
    "            try:\n",
    "                price =(soup.find('span', attrs = {'class':'slot-price'}).get_text()).strip().replace('$', '')\n",
    "            except:\n",
    "                try:\n",
    "                    price = (soup.find('span', attrs = {'class':'a-size-base a-color-secondary'}).get_text()).strip().replace('$', '')\n",
    "                #price = 'Nothing'\n",
    "                except:\n",
    "                    price = 'Nothing'\n",
    "                \n",
    "\n",
    "        try:\n",
    "            review_score = float(soup.select('.a-star-4-5')[0].get_text().split(' ')[0].replace(\",\", \".\"))\n",
    "        except:\n",
    "            #review_score = 'Nothing'\n",
    "            try:\n",
    "                review_score = float(soup.select('i[class*=\"a-icon a-icon-star a-star-\"]')[1].get_text().split(' ')[0].replace(\",\", \".\"))  \n",
    "            except:\n",
    "                try:\n",
    "                    review_score = float(soup.select('a-size-medium a-color-base a-text-beside-button a-text-bold')[1].get_text().split(' ')[0].replace(\",\", \".\"))\n",
    "                except:\n",
    "                    review_score = 'Nothing'\n",
    "                    \n",
    "                #review_score = 'Nothing'\n",
    "            \n",
    "        try: \n",
    "            review_count = int(soup.select('#acrCustomerReviewText')[0].get_text().split(' ')[0].replace(\",\", \"\"))\n",
    "        except:\n",
    "    \n",
    "            review_count =  'Nothing'\n",
    "            #try:\n",
    "            #    review_score = float(soup.select('i[class*=\"a-icon a-icon-star a-star-\"]')[1].get_text().split(' ')[0].replace(\",\", \".\"))\n",
    "            #    review_count = int(soup.select('#acrCustomerReviewText')[0].get_text().split(' ')[0].replace(\".\", \"\"))\n",
    "            #except:\n",
    "            #    review_score = ''\n",
    "            #    review_count = ''\n",
    "\n",
    "        data.append({'Title': title, 'Price': price, 'url':url, 'Review_score':review_score, 'Review_count': review_count })\n",
    "    \n",
    "    return pd.DataFrame(data)"
   ]
  },
  {
   "cell_type": "code",
   "execution_count": 40,
   "id": "f2ecb33b",
   "metadata": {
    "scrolled": true
   },
   "outputs": [
    {
     "data": {
      "text/html": [
       "<div>\n",
       "<style scoped>\n",
       "    .dataframe tbody tr th:only-of-type {\n",
       "        vertical-align: middle;\n",
       "    }\n",
       "\n",
       "    .dataframe tbody tr th {\n",
       "        vertical-align: top;\n",
       "    }\n",
       "\n",
       "    .dataframe thead th {\n",
       "        text-align: right;\n",
       "    }\n",
       "</style>\n",
       "<table border=\"1\" class=\"dataframe\">\n",
       "  <thead>\n",
       "    <tr style=\"text-align: right;\">\n",
       "      <th></th>\n",
       "      <th>Title</th>\n",
       "      <th>Price</th>\n",
       "      <th>url</th>\n",
       "      <th>Review_score</th>\n",
       "      <th>Review_count</th>\n",
       "    </tr>\n",
       "  </thead>\n",
       "  <tbody>\n",
       "    <tr>\n",
       "      <th>0</th>\n",
       "      <td>The Last Thing He Told Me: A Novel</td>\n",
       "      <td>16.88</td>\n",
       "      <td>https://www.amazon.com/dp/1501171348?tag=NYTBS...</td>\n",
       "      <td>4.4</td>\n",
       "      <td>7509</td>\n",
       "    </tr>\n",
       "    <tr>\n",
       "      <th>1</th>\n",
       "      <td>Sooley: A Novel</td>\n",
       "      <td>17.37</td>\n",
       "      <td>https://www.amazon.com/dp/0385547684?tag=NYTBS...</td>\n",
       "      <td>4.5</td>\n",
       "      <td>10868</td>\n",
       "    </tr>\n",
       "    <tr>\n",
       "      <th>2</th>\n",
       "      <td>Project Hail Mary: A Novel</td>\n",
       "      <td>15.89</td>\n",
       "      <td>https://www.amazon.com/dp/0593135202?tag=NYTBS...</td>\n",
       "      <td>4.7</td>\n",
       "      <td>8988</td>\n",
       "    </tr>\n",
       "    <tr>\n",
       "      <th>3</th>\n",
       "      <td>Where the Crawdads Sing</td>\n",
       "      <td>10.99</td>\n",
       "      <td>https://www.amazon.com/Where-Crawdads-Sing-Del...</td>\n",
       "      <td>4.8</td>\n",
       "      <td>133495</td>\n",
       "    </tr>\n",
       "    <tr>\n",
       "      <th>4</th>\n",
       "      <td>21st Birthday (Women's Murder Club, 21)</td>\n",
       "      <td>17.69</td>\n",
       "      <td>https://www.amazon.com/dp/031649934X?tag=NYTBS...</td>\n",
       "      <td>4.5</td>\n",
       "      <td>8249</td>\n",
       "    </tr>\n",
       "  </tbody>\n",
       "</table>\n",
       "</div>"
      ],
      "text/plain": [
       "                                     Title  Price  \\\n",
       "0       The Last Thing He Told Me: A Novel  16.88   \n",
       "1                          Sooley: A Novel  17.37   \n",
       "2               Project Hail Mary: A Novel  15.89   \n",
       "3                  Where the Crawdads Sing  10.99   \n",
       "4  21st Birthday (Women's Murder Club, 21)  17.69   \n",
       "\n",
       "                                                 url Review_score  \\\n",
       "0  https://www.amazon.com/dp/1501171348?tag=NYTBS...          4.4   \n",
       "1  https://www.amazon.com/dp/0385547684?tag=NYTBS...          4.5   \n",
       "2  https://www.amazon.com/dp/0593135202?tag=NYTBS...          4.7   \n",
       "3  https://www.amazon.com/Where-Crawdads-Sing-Del...          4.8   \n",
       "4  https://www.amazon.com/dp/031649934X?tag=NYTBS...          4.5   \n",
       "\n",
       "   Review_count  \n",
       "0          7509  \n",
       "1         10868  \n",
       "2          8988  \n",
       "3        133495  \n",
       "4          8249  "
      ]
     },
     "execution_count": 40,
     "metadata": {},
     "output_type": "execute_result"
    }
   ],
   "source": [
    "booklist = book_function(dataframe)\n",
    "booklist.head()"
   ]
  },
  {
   "cell_type": "code",
   "execution_count": 30,
   "id": "821c41c3",
   "metadata": {
    "scrolled": true
   },
   "outputs": [],
   "source": [
    "#booklist = book_function(dataframe)"
   ]
  },
  {
   "cell_type": "code",
   "execution_count": 41,
   "id": "453eda1e",
   "metadata": {},
   "outputs": [],
   "source": [
    "booklist.to_csv('List of URL_scraping.csv', sep = ';', index=True)"
   ]
  },
  {
   "cell_type": "code",
   "execution_count": null,
   "id": "7664cc48",
   "metadata": {},
   "outputs": [],
   "source": []
  }
 ],
 "metadata": {
  "kernelspec": {
   "display_name": "Python 3",
   "language": "python",
   "name": "python3"
  },
  "language_info": {
   "codemirror_mode": {
    "name": "ipython",
    "version": 3
   },
   "file_extension": ".py",
   "mimetype": "text/x-python",
   "name": "python",
   "nbconvert_exporter": "python",
   "pygments_lexer": "ipython3",
   "version": "3.8.8"
  }
 },
 "nbformat": 4,
 "nbformat_minor": 5
}
